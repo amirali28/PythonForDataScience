{
 "cells": [
  {
   "cell_type": "markdown",
   "id": "c33c1947",
   "metadata": {},
   "source": [
    "# While petlja"
   ]
  },
  {
   "cell_type": "code",
   "execution_count": 1,
   "id": "e5f74138",
   "metadata": {},
   "outputs": [
    {
     "name": "stdout",
     "output_type": "stream",
     "text": [
      "1\n",
      "2\n",
      "3\n",
      "4\n",
      "5\n"
     ]
    }
   ],
   "source": [
    "i=1\n",
    "while i<6:\n",
    "    print(i)\n",
    "    i+=1 #isto kao i = i+1\n",
    "    "
   ]
  },
  {
   "cell_type": "code",
   "execution_count": 2,
   "id": "5a9067fd",
   "metadata": {},
   "outputs": [
    {
     "name": "stdout",
     "output_type": "stream",
     "text": [
      "Trenutna vrijednost varijable i je: 1\n",
      "Trenutna vrijednost varijable i je: 2\n",
      "Trenutna vrijednost varijable i je: 3\n",
      "Trenutna vrijednost varijable i je: 4\n",
      "Trenutna vrijednost varijable i je: 5\n"
     ]
    }
   ],
   "source": [
    "i=1\n",
    "while i<6:\n",
    "    print(f\"Trenutna vrijednost varijable i je: {i}\")\n",
    "    i+=1 "
   ]
  },
  {
   "cell_type": "code",
   "execution_count": 5,
   "id": "04eb040d",
   "metadata": {},
   "outputs": [
    {
     "name": "stdout",
     "output_type": "stream",
     "text": [
      "i je veće ili jednako 6\n"
     ]
    }
   ],
   "source": [
    "i=12 \n",
    "while i<6:\n",
    "    print(i)\n",
    "    i+=1\n",
    "else:\n",
    "    print(\"i je veće ili jednako 6\")"
   ]
  },
  {
   "cell_type": "markdown",
   "id": "d16775f8",
   "metadata": {},
   "source": [
    "# Pass"
   ]
  },
  {
   "cell_type": "code",
   "execution_count": 8,
   "id": "00997c2f",
   "metadata": {},
   "outputs": [
    {
     "ename": "SyntaxError",
     "evalue": "unexpected EOF while parsing (<ipython-input-8-aaad164d821b>, line 4)",
     "output_type": "error",
     "traceback": [
      "\u001b[1;36m  File \u001b[1;32m\"<ipython-input-8-aaad164d821b>\"\u001b[1;36m, line \u001b[1;32m4\u001b[0m\n\u001b[1;33m    \u001b[0m\n\u001b[1;37m    ^\u001b[0m\n\u001b[1;31mSyntaxError\u001b[0m\u001b[1;31m:\u001b[0m unexpected EOF while parsing\n"
     ]
    }
   ],
   "source": [
    "x=[1,2,3]\n",
    "for item in x:\n",
    "    # ovo je neki komentar\n",
    "    "
   ]
  },
  {
   "cell_type": "code",
   "execution_count": 7,
   "id": "bcc40105",
   "metadata": {},
   "outputs": [
    {
     "data": {
      "text/plain": [
       "[1, 2, 3]"
      ]
     },
     "execution_count": 7,
     "metadata": {},
     "output_type": "execute_result"
    }
   ],
   "source": [
    "x"
   ]
  },
  {
   "cell_type": "code",
   "execution_count": 9,
   "id": "45b8dcf4",
   "metadata": {},
   "outputs": [
    {
     "name": "stdout",
     "output_type": "stream",
     "text": [
      "Ovo je naš kraj skripte\n"
     ]
    }
   ],
   "source": [
    "x=[1,2,3]\n",
    "for item in x:\n",
    "    #ovo je neki komentar\n",
    "    pass\n",
    "print(\"Ovo je naš kraj skripte\")"
   ]
  },
  {
   "cell_type": "markdown",
   "id": "6782ea08",
   "metadata": {},
   "source": [
    "# Break"
   ]
  },
  {
   "cell_type": "code",
   "execution_count": 10,
   "id": "02da6438",
   "metadata": {},
   "outputs": [
    {
     "name": "stdout",
     "output_type": "stream",
     "text": [
      "1\n",
      "2\n",
      "3\n",
      "4\n",
      "5\n",
      "6\n"
     ]
    }
   ],
   "source": [
    "i = 1 \n",
    "while i<10:\n",
    "    print(i)\n",
    "    if i == 6:\n",
    "        break #Napusti petlju\n",
    "    i += 1"
   ]
  },
  {
   "cell_type": "code",
   "execution_count": 16,
   "id": "59470de1",
   "metadata": {},
   "outputs": [
    {
     "name": "stdout",
     "output_type": "stream",
     "text": [
      "M\n",
      "u\n",
      "h\n",
      "a\n",
      "r\n",
      "e\n",
      "m\n",
      "o\n",
      "v\n"
     ]
    }
   ],
   "source": [
    "moj_string = \"Muharemović\"\n",
    "for slovo in moj_string:\n",
    "    if slovo == \"i\":\n",
    "        break\n",
    "    print(slovo)\n",
    "    "
   ]
  },
  {
   "cell_type": "markdown",
   "id": "633fe17b",
   "metadata": {},
   "source": [
    "# Continue"
   ]
  },
  {
   "cell_type": "code",
   "execution_count": 17,
   "id": "b53f7b53",
   "metadata": {},
   "outputs": [
    {
     "name": "stdout",
     "output_type": "stream",
     "text": [
      "1\n",
      "2\n",
      "4\n",
      "5\n",
      "6\n",
      "7\n",
      "8\n",
      "9\n",
      "10\n"
     ]
    }
   ],
   "source": [
    "i= 0\n",
    "while i<10:\n",
    "    i+=1\n",
    "    if i == 3:\n",
    "        continue #Preskače\n",
    "    print(i)"
   ]
  },
  {
   "cell_type": "code",
   "execution_count": 18,
   "id": "38f1b118",
   "metadata": {},
   "outputs": [
    {
     "name": "stdout",
     "output_type": "stream",
     "text": [
      "M\n",
      "u\n",
      "h\n",
      "a\n",
      "r\n",
      "e\n",
      "m\n",
      "o\n",
      "v\n",
      "ć\n"
     ]
    }
   ],
   "source": [
    "moj_string = \"Muharemović\"\n",
    "for slovo in moj_string:\n",
    "    if slovo == \"i\":\n",
    "        continue\n",
    "    print(slovo)"
   ]
  },
  {
   "cell_type": "code",
   "execution_count": 19,
   "id": "a4b27809",
   "metadata": {},
   "outputs": [
    {
     "name": "stdout",
     "output_type": "stream",
     "text": [
      "12\n",
      "13\n",
      "14\n",
      "16\n",
      "17\n",
      "18\n",
      "19\n",
      "20\n"
     ]
    }
   ],
   "source": [
    "i=11\n",
    "while i<20:\n",
    "    i+=1\n",
    "    if i == 15:\n",
    "        continue\n",
    "    print(i)"
   ]
  },
  {
   "cell_type": "code",
   "execution_count": 23,
   "id": "b3ee9ccd",
   "metadata": {},
   "outputs": [
    {
     "name": "stdout",
     "output_type": "stream",
     "text": [
      "1\n",
      "3\n",
      "5\n",
      "7\n",
      "9\n",
      "11\n",
      "13\n",
      "15\n",
      "17\n",
      "19\n",
      "21\n",
      "23\n",
      "25\n",
      "27\n",
      "29\n",
      "31\n",
      "33\n",
      "35\n",
      "37\n",
      "39\n",
      "41\n",
      "43\n",
      "45\n",
      "47\n",
      "49\n",
      "51\n",
      "53\n",
      "55\n",
      "57\n",
      "59\n",
      "61\n",
      "63\n",
      "65\n",
      "67\n",
      "69\n",
      "71\n",
      "73\n",
      "75\n",
      "77\n",
      "79\n",
      "81\n",
      "83\n",
      "85\n",
      "87\n",
      "89\n",
      "91\n",
      "93\n",
      "95\n",
      "97\n",
      "99\n"
     ]
    }
   ],
   "source": [
    "for i in range (1,100,2):\n",
    "    print(i)"
   ]
  },
  {
   "cell_type": "code",
   "execution_count": null,
   "id": "b30af1a8",
   "metadata": {},
   "outputs": [],
   "source": []
  }
 ],
 "metadata": {
  "kernelspec": {
   "display_name": "Python 3",
   "language": "python",
   "name": "python3"
  },
  "language_info": {
   "codemirror_mode": {
    "name": "ipython",
    "version": 3
   },
   "file_extension": ".py",
   "mimetype": "text/x-python",
   "name": "python",
   "nbconvert_exporter": "python",
   "pygments_lexer": "ipython3",
   "version": "3.8.8"
  }
 },
 "nbformat": 4,
 "nbformat_minor": 5
}
