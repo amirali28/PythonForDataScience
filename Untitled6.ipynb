{
 "cells": [
  {
   "cell_type": "markdown",
   "id": "f95bf8f6",
   "metadata": {},
   "source": [
    "# .format() method"
   ]
  },
  {
   "cell_type": "code",
   "execution_count": 1,
   "id": "15fbade7",
   "metadata": {},
   "outputs": [
    {
     "name": "stdout",
     "output_type": "stream",
     "text": [
      "This is a string Bilo koja nova rijec\n"
     ]
    }
   ],
   "source": [
    "print(\"This is a string {}\".format(\"Bilo koja nova rijec\"))"
   ]
  },
  {
   "cell_type": "code",
   "execution_count": 2,
   "id": "25e2f638",
   "metadata": {},
   "outputs": [
    {
     "name": "stdout",
     "output_type": "stream",
     "text": [
      "The brown fox quick \n"
     ]
    }
   ],
   "source": [
    "print(\"The {} {} {} \".format(\"brown\",\"fox\",\"quick\"))"
   ]
  },
  {
   "cell_type": "code",
   "execution_count": 3,
   "id": "988b9a0f",
   "metadata": {},
   "outputs": [
    {
     "name": "stdout",
     "output_type": "stream",
     "text": [
      "The quick fox brown \n"
     ]
    }
   ],
   "source": [
    "print(\"The {2} {1} {0} \".format(\"brown\",\"fox\",\"quick\"))"
   ]
  },
  {
   "cell_type": "code",
   "execution_count": 4,
   "id": "3284d634",
   "metadata": {},
   "outputs": [
    {
     "name": "stdout",
     "output_type": "stream",
     "text": [
      "The brown brown brown \n"
     ]
    }
   ],
   "source": [
    "print(\"The {0} {0} {0} \".format(\"brown\",\"fox\",\"quick\"))"
   ]
  },
  {
   "cell_type": "code",
   "execution_count": 5,
   "id": "b7eb2581",
   "metadata": {},
   "outputs": [
    {
     "name": "stdout",
     "output_type": "stream",
     "text": [
      "The fox fox fox \n"
     ]
    }
   ],
   "source": [
    "print(\"The {1} {1} {1} \".format(\"brown\",\"fox\",\"quick\"))"
   ]
  },
  {
   "cell_type": "code",
   "execution_count": 6,
   "id": "d44fd36b",
   "metadata": {},
   "outputs": [
    {
     "name": "stdout",
     "output_type": "stream",
     "text": [
      "The quick brown fox \n"
     ]
    }
   ],
   "source": [
    "print(\"The {q} {b} {f} \".format(b=\"brown\",f=\"fox\",q=\"quick\"))"
   ]
  },
  {
   "cell_type": "code",
   "execution_count": 7,
   "id": "3de556fc",
   "metadata": {},
   "outputs": [
    {
     "name": "stdout",
     "output_type": "stream",
     "text": [
      "The fox fox fox \n"
     ]
    }
   ],
   "source": [
    "print(\"The {f} {f} {f} \".format(b=\"brown\",f=\"fox\",q=\"quick\"))"
   ]
  },
  {
   "cell_type": "code",
   "execution_count": 10,
   "id": "80b8c4d1",
   "metadata": {},
   "outputs": [],
   "source": [
    "result=100/777"
   ]
  },
  {
   "cell_type": "code",
   "execution_count": 11,
   "id": "46928912",
   "metadata": {},
   "outputs": [
    {
     "data": {
      "text/plain": [
       "0.1287001287001287"
      ]
     },
     "execution_count": 11,
     "metadata": {},
     "output_type": "execute_result"
    }
   ],
   "source": [
    "result"
   ]
  },
  {
   "cell_type": "code",
   "execution_count": 13,
   "id": "7084f111",
   "metadata": {},
   "outputs": [
    {
     "name": "stdout",
     "output_type": "stream",
     "text": [
      "The result was 0.1287001287001287\n"
     ]
    }
   ],
   "source": [
    "print(\"The result was {}\".format(result))"
   ]
  },
  {
   "cell_type": "code",
   "execution_count": 15,
   "id": "ae97aff2",
   "metadata": {},
   "outputs": [
    {
     "name": "stdout",
     "output_type": "stream",
     "text": [
      "The result was 0.1287001287001287\n"
     ]
    }
   ],
   "source": [
    "print(\"The result was {r}\".format(r=result))"
   ]
  },
  {
   "cell_type": "code",
   "execution_count": 16,
   "id": "4ce3f865",
   "metadata": {},
   "outputs": [
    {
     "name": "stdout",
     "output_type": "stream",
     "text": [
      "The result was 0.129\n"
     ]
    }
   ],
   "source": [
    "print(\"The result was {r:1.3f}\".format(r=result))"
   ]
  },
  {
   "cell_type": "markdown",
   "id": "ab412a62",
   "metadata": {},
   "source": [
    "# f string"
   ]
  },
  {
   "cell_type": "code",
   "execution_count": 17,
   "id": "eb9ace1e",
   "metadata": {},
   "outputs": [],
   "source": [
    "name=\"Jose\""
   ]
  },
  {
   "cell_type": "code",
   "execution_count": 20,
   "id": "2764132c",
   "metadata": {},
   "outputs": [
    {
     "name": "stdout",
     "output_type": "stream",
     "text": [
      "Hello, his name is Jose\n"
     ]
    }
   ],
   "source": [
    "print(f\"Hello, his name is {name}\")"
   ]
  },
  {
   "cell_type": "code",
   "execution_count": 21,
   "id": "33d8b368",
   "metadata": {},
   "outputs": [],
   "source": [
    "age=30"
   ]
  },
  {
   "cell_type": "code",
   "execution_count": 22,
   "id": "7c420a8d",
   "metadata": {},
   "outputs": [
    {
     "name": "stdout",
     "output_type": "stream",
     "text": [
      "Hello his name is Jose, and his age is 30\n"
     ]
    }
   ],
   "source": [
    "print(f\"Hello his name is {name}, and his age is {age}\")"
   ]
  },
  {
   "cell_type": "code",
   "execution_count": 25,
   "id": "493b7729",
   "metadata": {},
   "outputs": [
    {
     "ename": "SyntaxError",
     "evalue": "expression cannot contain assignment, perhaps you meant \"==\"? (<ipython-input-25-dfc60723582f>, line 1)",
     "output_type": "error",
     "traceback": [
      "\u001b[1;36m  File \u001b[1;32m\"<ipython-input-25-dfc60723582f>\"\u001b[1;36m, line \u001b[1;32m1\u001b[0m\n\u001b[1;33m    print(\"Što je danas {0} i {1} {2}...\".format(0=\"lijep\", 1=\"suncan\",2=\"divan\") )\u001b[0m\n\u001b[1;37m                                                  ^\u001b[0m\n\u001b[1;31mSyntaxError\u001b[0m\u001b[1;31m:\u001b[0m expression cannot contain assignment, perhaps you meant \"==\"?\n"
     ]
    }
   ],
   "source": [
    "print(\"Što je danas {0} i {1} {2}...\".format(0=\"lijep\", 1=\"suncan\",2=\"divan\") )"
   ]
  },
  {
   "cell_type": "code",
   "execution_count": 26,
   "id": "e3fa6076",
   "metadata": {},
   "outputs": [
    {
     "name": "stdout",
     "output_type": "stream",
     "text": [
      "Što je danas lijep i sunčan dan\n"
     ]
    }
   ],
   "source": [
    "print(\"Što je danas {} i {} {}\".format(\"lijep\",\"sunčan\", \"dan\"))"
   ]
  },
  {
   "cell_type": "code",
   "execution_count": null,
   "id": "97678ddc",
   "metadata": {},
   "outputs": [],
   "source": []
  }
 ],
 "metadata": {
  "kernelspec": {
   "display_name": "Python 3",
   "language": "python",
   "name": "python3"
  },
  "language_info": {
   "codemirror_mode": {
    "name": "ipython",
    "version": 3
   },
   "file_extension": ".py",
   "mimetype": "text/x-python",
   "name": "python",
   "nbconvert_exporter": "python",
   "pygments_lexer": "ipython3",
   "version": "3.8.8"
  }
 },
 "nbformat": 4,
 "nbformat_minor": 5
}
