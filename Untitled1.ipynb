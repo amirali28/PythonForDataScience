{
 "cells": [
  {
   "cell_type": "markdown",
   "id": "2c5aa738",
   "metadata": {},
   "source": [
    "# Variable assignment"
   ]
  },
  {
   "cell_type": "code",
   "execution_count": 2,
   "id": "dfe52189",
   "metadata": {},
   "outputs": [],
   "source": [
    "a = 5"
   ]
  },
  {
   "cell_type": "code",
   "execution_count": 3,
   "id": "a8552b30",
   "metadata": {},
   "outputs": [
    {
     "data": {
      "text/plain": [
       "5"
      ]
     },
     "execution_count": 3,
     "metadata": {},
     "output_type": "execute_result"
    }
   ],
   "source": [
    "a"
   ]
  },
  {
   "cell_type": "code",
   "execution_count": 4,
   "id": "79cabaf8",
   "metadata": {},
   "outputs": [
    {
     "name": "stdout",
     "output_type": "stream",
     "text": [
      "5\n"
     ]
    }
   ],
   "source": [
    "print(a)"
   ]
  },
  {
   "cell_type": "code",
   "execution_count": 5,
   "id": "988e617c",
   "metadata": {},
   "outputs": [],
   "source": [
    "A = 4"
   ]
  },
  {
   "cell_type": "code",
   "execution_count": 6,
   "id": "d293fac5",
   "metadata": {},
   "outputs": [
    {
     "name": "stdout",
     "output_type": "stream",
     "text": [
      "5 4\n"
     ]
    }
   ],
   "source": [
    "print(a,A)"
   ]
  },
  {
   "cell_type": "markdown",
   "id": "6605cb8b",
   "metadata": {},
   "source": [
    "# Kako rade varijable u Python "
   ]
  },
  {
   "cell_type": "code",
   "execution_count": 7,
   "id": "ff79bbaa",
   "metadata": {},
   "outputs": [],
   "source": [
    "a=7\n",
    "b=a #7\n",
    "a=3"
   ]
  },
  {
   "cell_type": "code",
   "execution_count": 8,
   "id": "39a258a8",
   "metadata": {},
   "outputs": [
    {
     "name": "stdout",
     "output_type": "stream",
     "text": [
      "3\n"
     ]
    }
   ],
   "source": [
    "print(a)"
   ]
  },
  {
   "cell_type": "code",
   "execution_count": 9,
   "id": "0bda1a49",
   "metadata": {},
   "outputs": [
    {
     "name": "stdout",
     "output_type": "stream",
     "text": [
      "7\n"
     ]
    }
   ],
   "source": [
    "print(b)"
   ]
  },
  {
   "cell_type": "markdown",
   "id": "e7b9d601",
   "metadata": {},
   "source": [
    "# Naming rules"
   ]
  },
  {
   "cell_type": "code",
   "execution_count": 10,
   "id": "0b7fdc09",
   "metadata": {},
   "outputs": [],
   "source": [
    "a=5"
   ]
  },
  {
   "cell_type": "code",
   "execution_count": 11,
   "id": "64e32da1",
   "metadata": {},
   "outputs": [],
   "source": [
    "_a=8"
   ]
  },
  {
   "cell_type": "code",
   "execution_count": 12,
   "id": "01ba37c2",
   "metadata": {},
   "outputs": [
    {
     "ename": "SyntaxError",
     "evalue": "invalid syntax (<ipython-input-12-ea88de52c4a1>, line 1)",
     "output_type": "error",
     "traceback": [
      "\u001b[1;36m  File \u001b[1;32m\"<ipython-input-12-ea88de52c4a1>\"\u001b[1;36m, line \u001b[1;32m1\u001b[0m\n\u001b[1;33m    @a=10\u001b[0m\n\u001b[1;37m      ^\u001b[0m\n\u001b[1;31mSyntaxError\u001b[0m\u001b[1;31m:\u001b[0m invalid syntax\n"
     ]
    }
   ],
   "source": [
    "@a=10"
   ]
  },
  {
   "cell_type": "code",
   "execution_count": 13,
   "id": "0f0f5256",
   "metadata": {},
   "outputs": [
    {
     "ename": "TypeError",
     "evalue": "unsupported operand type(s) for @=: 'int' and 'int'",
     "output_type": "error",
     "traceback": [
      "\u001b[1;31m---------------------------------------------------------------------------\u001b[0m",
      "\u001b[1;31mTypeError\u001b[0m                                 Traceback (most recent call last)",
      "\u001b[1;32m<ipython-input-13-2a3d543702b2>\u001b[0m in \u001b[0;36m<module>\u001b[1;34m\u001b[0m\n\u001b[1;32m----> 1\u001b[1;33m \u001b[0ma\u001b[0m\u001b[1;33m@=\u001b[0m\u001b[1;36m10\u001b[0m\u001b[1;33m\u001b[0m\u001b[1;33m\u001b[0m\u001b[0m\n\u001b[0m",
      "\u001b[1;31mTypeError\u001b[0m: unsupported operand type(s) for @=: 'int' and 'int'"
     ]
    }
   ],
   "source": [
    "a@=10"
   ]
  },
  {
   "cell_type": "code",
   "execution_count": 14,
   "id": "bd599089",
   "metadata": {},
   "outputs": [
    {
     "ename": "SyntaxError",
     "evalue": "invalid syntax (<ipython-input-14-bd0b12d890ab>, line 1)",
     "output_type": "error",
     "traceback": [
      "\u001b[1;36m  File \u001b[1;32m\"<ipython-input-14-bd0b12d890ab>\"\u001b[1;36m, line \u001b[1;32m1\u001b[0m\n\u001b[1;33m    1a=12\u001b[0m\n\u001b[1;37m     ^\u001b[0m\n\u001b[1;31mSyntaxError\u001b[0m\u001b[1;31m:\u001b[0m invalid syntax\n"
     ]
    }
   ],
   "source": [
    "1a=12"
   ]
  },
  {
   "cell_type": "code",
   "execution_count": 15,
   "id": "61abc5e1",
   "metadata": {},
   "outputs": [],
   "source": [
    "FirstName=\"Amir\""
   ]
  },
  {
   "cell_type": "markdown",
   "id": "556cf923",
   "metadata": {},
   "source": [
    "# Dodjeljivanje vrijednosti varijabli"
   ]
  },
  {
   "cell_type": "code",
   "execution_count": 16,
   "id": "ae10d3f3",
   "metadata": {},
   "outputs": [],
   "source": [
    "x,y,z= \"Narandža\",\"Banana\", \"Višnja\""
   ]
  },
  {
   "cell_type": "code",
   "execution_count": 17,
   "id": "262de8de",
   "metadata": {},
   "outputs": [
    {
     "name": "stdout",
     "output_type": "stream",
     "text": [
      "Narandža\n"
     ]
    }
   ],
   "source": [
    "print(x)"
   ]
  },
  {
   "cell_type": "code",
   "execution_count": 18,
   "id": "c37c2233",
   "metadata": {},
   "outputs": [
    {
     "name": "stdout",
     "output_type": "stream",
     "text": [
      "Banana\n"
     ]
    }
   ],
   "source": [
    "print(y)"
   ]
  },
  {
   "cell_type": "code",
   "execution_count": 19,
   "id": "c77c7012",
   "metadata": {},
   "outputs": [
    {
     "name": "stdout",
     "output_type": "stream",
     "text": [
      "Višnja\n"
     ]
    }
   ],
   "source": [
    "print(z)"
   ]
  },
  {
   "cell_type": "code",
   "execution_count": 20,
   "id": "ff0b8b01",
   "metadata": {},
   "outputs": [],
   "source": [
    "x=y=z=\"Banana\""
   ]
  },
  {
   "cell_type": "code",
   "execution_count": 21,
   "id": "c217dd8f",
   "metadata": {},
   "outputs": [
    {
     "name": "stdout",
     "output_type": "stream",
     "text": [
      "Banana\n"
     ]
    }
   ],
   "source": [
    "print(x)"
   ]
  },
  {
   "cell_type": "code",
   "execution_count": 22,
   "id": "9f61643c",
   "metadata": {},
   "outputs": [
    {
     "name": "stdout",
     "output_type": "stream",
     "text": [
      "Banana\n"
     ]
    }
   ],
   "source": [
    "print(z)"
   ]
  },
  {
   "cell_type": "markdown",
   "id": "05b9300a",
   "metadata": {},
   "source": [
    "# Output vrijednosti"
   ]
  },
  {
   "cell_type": "code",
   "execution_count": 23,
   "id": "2bc1a1b8",
   "metadata": {},
   "outputs": [],
   "source": [
    "txt=\"Super\""
   ]
  },
  {
   "cell_type": "code",
   "execution_count": 29,
   "id": "56625de9",
   "metadata": {},
   "outputs": [
    {
     "name": "stdout",
     "output_type": "stream",
     "text": [
      "Python je Super\n"
     ]
    }
   ],
   "source": [
    "print(\"Python je \"+  txt)"
   ]
  },
  {
   "cell_type": "code",
   "execution_count": 30,
   "id": "8ebd2bbd",
   "metadata": {},
   "outputs": [],
   "source": [
    "a= \"Python je za: \""
   ]
  },
  {
   "cell_type": "code",
   "execution_count": 31,
   "id": "22f9a793",
   "metadata": {},
   "outputs": [],
   "source": [
    "b=\"10\""
   ]
  },
  {
   "cell_type": "code",
   "execution_count": 32,
   "id": "fdc7c80a",
   "metadata": {},
   "outputs": [],
   "source": [
    "c=a+b"
   ]
  },
  {
   "cell_type": "code",
   "execution_count": 33,
   "id": "4e167a8e",
   "metadata": {},
   "outputs": [
    {
     "name": "stdout",
     "output_type": "stream",
     "text": [
      "Python je za: 10\n"
     ]
    }
   ],
   "source": [
    "print(c)"
   ]
  },
  {
   "cell_type": "code",
   "execution_count": 34,
   "id": "2d2217ed",
   "metadata": {},
   "outputs": [],
   "source": [
    "a=\"Python je za: \"\n",
    "b=\"10\"\n",
    "c=a+b"
   ]
  },
  {
   "cell_type": "code",
   "execution_count": 35,
   "id": "9f256926",
   "metadata": {},
   "outputs": [
    {
     "name": "stdout",
     "output_type": "stream",
     "text": [
      "Python je za: 10\n"
     ]
    }
   ],
   "source": [
    "print(c)"
   ]
  },
  {
   "cell_type": "code",
   "execution_count": null,
   "id": "c42eef74",
   "metadata": {},
   "outputs": [],
   "source": []
  }
 ],
 "metadata": {
  "kernelspec": {
   "display_name": "Python 3",
   "language": "python",
   "name": "python3"
  },
  "language_info": {
   "codemirror_mode": {
    "name": "ipython",
    "version": 3
   },
   "file_extension": ".py",
   "mimetype": "text/x-python",
   "name": "python",
   "nbconvert_exporter": "python",
   "pygments_lexer": "ipython3",
   "version": "3.8.8"
  }
 },
 "nbformat": 4,
 "nbformat_minor": 5
}
