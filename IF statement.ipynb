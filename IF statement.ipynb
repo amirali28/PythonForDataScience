{
 "cells": [
  {
   "cell_type": "markdown",
   "id": "86944512",
   "metadata": {},
   "source": [
    "# if statement"
   ]
  },
  {
   "cell_type": "code",
   "execution_count": 1,
   "id": "b39f4ade",
   "metadata": {},
   "outputs": [
    {
     "ename": "SyntaxError",
     "evalue": "unexpected EOF while parsing (<ipython-input-1-2c8a33b52dfb>, line 1)",
     "output_type": "error",
     "traceback": [
      "\u001b[1;36m  File \u001b[1;32m\"<ipython-input-1-2c8a33b52dfb>\"\u001b[1;36m, line \u001b[1;32m1\u001b[0m\n\u001b[1;33m    if True:\u001b[0m\n\u001b[1;37m            ^\u001b[0m\n\u001b[1;31mSyntaxError\u001b[0m\u001b[1;31m:\u001b[0m unexpected EOF while parsing\n"
     ]
    }
   ],
   "source": [
    "if True:"
   ]
  },
  {
   "cell_type": "code",
   "execution_count": 2,
   "id": "fded8bc3",
   "metadata": {},
   "outputs": [
    {
     "name": "stdout",
     "output_type": "stream",
     "text": [
      "It's true\n"
     ]
    }
   ],
   "source": [
    "if True: \n",
    "    print(\"It's true\")"
   ]
  },
  {
   "cell_type": "code",
   "execution_count": 3,
   "id": "13b87805",
   "metadata": {},
   "outputs": [
    {
     "ename": "IndentationError",
     "evalue": "expected an indented block (<ipython-input-3-81c30b91f7ab>, line 2)",
     "output_type": "error",
     "traceback": [
      "\u001b[1;36m  File \u001b[1;32m\"<ipython-input-3-81c30b91f7ab>\"\u001b[1;36m, line \u001b[1;32m2\u001b[0m\n\u001b[1;33m    print(\"It's true\")\u001b[0m\n\u001b[1;37m    ^\u001b[0m\n\u001b[1;31mIndentationError\u001b[0m\u001b[1;31m:\u001b[0m expected an indented block\n"
     ]
    }
   ],
   "source": [
    "if True: \n",
    "print(\"It's true\")"
   ]
  },
  {
   "cell_type": "code",
   "execution_count": 6,
   "id": "265f9b85",
   "metadata": {},
   "outputs": [
    {
     "name": "stdout",
     "output_type": "stream",
     "text": [
      "It's true\n"
     ]
    }
   ],
   "source": [
    "if 3 > 2 :\n",
    "    print(\"It's true\")"
   ]
  },
  {
   "cell_type": "code",
   "execution_count": 8,
   "id": "af671f6d",
   "metadata": {},
   "outputs": [
    {
     "name": "stdout",
     "output_type": "stream",
     "text": [
      "Feed me !\n"
     ]
    }
   ],
   "source": [
    "hungry= True\n",
    "if hungry == True:\n",
    "    print(\"Feed me !\")"
   ]
  },
  {
   "cell_type": "code",
   "execution_count": 11,
   "id": "15ab23b4",
   "metadata": {},
   "outputs": [
    {
     "name": "stdout",
     "output_type": "stream",
     "text": [
      "b je veće od a\n"
     ]
    }
   ],
   "source": [
    "a=13\n",
    "b=24\n",
    "if b>a:\n",
    "    print(\"b je veće od a\")"
   ]
  },
  {
   "cell_type": "code",
   "execution_count": 15,
   "id": "ef1f71c6",
   "metadata": {},
   "outputs": [
    {
     "name": "stdout",
     "output_type": "stream",
     "text": [
      "I'm not hungry\n"
     ]
    }
   ],
   "source": [
    "hungry=False\n",
    "if hungry:\n",
    "    print(\"Feed me !\")\n",
    "else:\n",
    "    print(\"I'm not hungry\")"
   ]
  },
  {
   "cell_type": "code",
   "execution_count": 16,
   "id": "0e39671a",
   "metadata": {},
   "outputs": [
    {
     "name": "stdout",
     "output_type": "stream",
     "text": [
      "Neparan broj\n"
     ]
    }
   ],
   "source": [
    "x = 5\n",
    "if (x%2==0):\n",
    "    print(\"Paran broj\")\n",
    "else:\n",
    "    print(\"Neparan broj\")"
   ]
  },
  {
   "cell_type": "code",
   "execution_count": 17,
   "id": "942f2c49",
   "metadata": {},
   "outputs": [
    {
     "name": "stdout",
     "output_type": "stream",
     "text": [
      "Paran broj\n"
     ]
    }
   ],
   "source": [
    "x = 6\n",
    "if (x%2==0):\n",
    "    print(\"Paran broj\")\n",
    "else:\n",
    "    print(\"Neparan broj\")"
   ]
  },
  {
   "cell_type": "code",
   "execution_count": 19,
   "id": "0b292e98",
   "metadata": {},
   "outputs": [
    {
     "name": "stdout",
     "output_type": "stream",
     "text": [
      "a je veće od b\n"
     ]
    }
   ],
   "source": [
    "a=24\n",
    "b=24\n",
    "if b>a:\n",
    "    print(\"b je veće od a\")\n",
    "else:\n",
    "    print(\"a je veće od b\")"
   ]
  },
  {
   "cell_type": "code",
   "execution_count": 21,
   "id": "c82176a1",
   "metadata": {},
   "outputs": [
    {
     "name": "stdout",
     "output_type": "stream",
     "text": [
      "a je veče od b\n"
     ]
    }
   ],
   "source": [
    "a=90\n",
    "b=24\n",
    "\n",
    "if b>a:\n",
    "    print(\"b je veće od a\")\n",
    "elif a==b:\n",
    "    print(\"a je jednako b\")\n",
    "else:\n",
    "    print(\"a je veče od b\")"
   ]
  },
  {
   "cell_type": "code",
   "execution_count": 3,
   "id": "28bcbf9a",
   "metadata": {},
   "outputs": [
    {
     "name": "stdout",
     "output_type": "stream",
     "text": [
      "Koje je tvoje ime ?\n"
     ]
    }
   ],
   "source": [
    "name = \"Edo\"\n",
    "\n",
    "if name == \"Jasmin\":\n",
    "    print(\"Zdravo Jasmine\")\n",
    "elif name == \"Mirza\":\n",
    "    print(\"Zdravo Mirza\")\n",
    "else:\n",
    "    print(\"Koje je tvoje ime ?\")"
   ]
  },
  {
   "cell_type": "code",
   "execution_count": 4,
   "id": "f45ac0ef",
   "metadata": {},
   "outputs": [
    {
     "name": "stdout",
     "output_type": "stream",
     "text": [
      "Ocjena F\n"
     ]
    }
   ],
   "source": [
    "y=60\n",
    "if (y>90):\n",
    "    print(\"Ocjena A\")\n",
    "elif (y>60 and y<=90):\n",
    "    print(\"Ocjena B\")\n",
    "else:\n",
    "    print(\"Ocjena F\")"
   ]
  },
  {
   "cell_type": "code",
   "execution_count": 7,
   "id": "73beef6f",
   "metadata": {},
   "outputs": [
    {
     "name": "stdout",
     "output_type": "stream",
     "text": [
      "Ocjena 10\n"
     ]
    }
   ],
   "source": [
    "y=100\n",
    "if (y<55):\n",
    "    print(\"Nedovoljan broj bodova, nažalost niste položili ispit\")\n",
    "if (y>=55 and y<65):\n",
    "    print(\"Ocjena 6\")\n",
    "if (y>=65 and y<75):\n",
    "    print(\"Ocjena 7\")\n",
    "if (y>=75 and y<85):\n",
    "    print(\"Ocjena 8\")\n",
    "if (y>=85 and y<95):\n",
    "    print(\"Ocjena 9\")\n",
    "if (y>95 and y<=100):\n",
    "    print(\"Ocjena 10\")\n",
    "else:\n",
    "    print(\"Netačan unos\")"
   ]
  },
  {
   "cell_type": "code",
   "execution_count": null,
   "id": "3417ab1c",
   "metadata": {},
   "outputs": [],
   "source": []
  }
 ],
 "metadata": {
  "kernelspec": {
   "display_name": "Python 3",
   "language": "python",
   "name": "python3"
  },
  "language_info": {
   "codemirror_mode": {
    "name": "ipython",
    "version": 3
   },
   "file_extension": ".py",
   "mimetype": "text/x-python",
   "name": "python",
   "nbconvert_exporter": "python",
   "pygments_lexer": "ipython3",
   "version": "3.8.8"
  }
 },
 "nbformat": 4,
 "nbformat_minor": 5
}
