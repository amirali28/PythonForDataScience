{
 "cells": [
  {
   "cell_type": "code",
   "execution_count": 1,
   "id": "639b3bcb",
   "metadata": {},
   "outputs": [],
   "source": [
    "a= \"Hello world\""
   ]
  },
  {
   "cell_type": "code",
   "execution_count": 2,
   "id": "369f4d99",
   "metadata": {},
   "outputs": [
    {
     "data": {
      "text/plain": [
       "'Hello world'"
      ]
     },
     "execution_count": 2,
     "metadata": {},
     "output_type": "execute_result"
    }
   ],
   "source": [
    "a"
   ]
  },
  {
   "cell_type": "code",
   "execution_count": 3,
   "id": "e4ad6545",
   "metadata": {},
   "outputs": [
    {
     "data": {
      "text/plain": [
       "11"
      ]
     },
     "execution_count": 3,
     "metadata": {},
     "output_type": "execute_result"
    }
   ],
   "source": [
    "len(a)"
   ]
  },
  {
   "cell_type": "code",
   "execution_count": 4,
   "id": "714e85d0",
   "metadata": {},
   "outputs": [],
   "source": [
    "b=\"Python je najbolji programski jezik na svijetu !!!\""
   ]
  },
  {
   "cell_type": "code",
   "execution_count": 5,
   "id": "eb717b93",
   "metadata": {},
   "outputs": [
    {
     "data": {
      "text/plain": [
       "50"
      ]
     },
     "execution_count": 5,
     "metadata": {},
     "output_type": "execute_result"
    }
   ],
   "source": [
    "len(b)"
   ]
  },
  {
   "cell_type": "code",
   "execution_count": 6,
   "id": "8f798905",
   "metadata": {},
   "outputs": [],
   "source": [
    "x=\"Hello world\""
   ]
  },
  {
   "cell_type": "code",
   "execution_count": 7,
   "id": "1b6d7e1e",
   "metadata": {},
   "outputs": [
    {
     "data": {
      "text/plain": [
       "'Hello world'"
      ]
     },
     "execution_count": 7,
     "metadata": {},
     "output_type": "execute_result"
    }
   ],
   "source": [
    "x"
   ]
  },
  {
   "cell_type": "code",
   "execution_count": 8,
   "id": "d6efd690",
   "metadata": {},
   "outputs": [
    {
     "data": {
      "text/plain": [
       "'HELLO WORLD'"
      ]
     },
     "execution_count": 8,
     "metadata": {},
     "output_type": "execute_result"
    }
   ],
   "source": [
    "x.upper()"
   ]
  },
  {
   "cell_type": "code",
   "execution_count": 9,
   "id": "21522204",
   "metadata": {},
   "outputs": [
    {
     "data": {
      "text/plain": [
       "'PYTHON JE NAJBOLJI PROGRAMSKI JEZIK NA SVIJETU !!!'"
      ]
     },
     "execution_count": 9,
     "metadata": {},
     "output_type": "execute_result"
    }
   ],
   "source": [
    "b.upper()"
   ]
  },
  {
   "cell_type": "code",
   "execution_count": 10,
   "id": "cd6056b7",
   "metadata": {},
   "outputs": [
    {
     "data": {
      "text/plain": [
       "'Python je najbolji programski jezik na svijetu !!!'"
      ]
     },
     "execution_count": 10,
     "metadata": {},
     "output_type": "execute_result"
    }
   ],
   "source": [
    "b"
   ]
  },
  {
   "cell_type": "code",
   "execution_count": 11,
   "id": "013ea01d",
   "metadata": {},
   "outputs": [
    {
     "data": {
      "text/plain": [
       "'Hello world'"
      ]
     },
     "execution_count": 11,
     "metadata": {},
     "output_type": "execute_result"
    }
   ],
   "source": [
    "x"
   ]
  },
  {
   "cell_type": "code",
   "execution_count": 12,
   "id": "d0e7332d",
   "metadata": {},
   "outputs": [],
   "source": [
    "y=x.upper()"
   ]
  },
  {
   "cell_type": "code",
   "execution_count": 13,
   "id": "1d3defd9",
   "metadata": {},
   "outputs": [
    {
     "data": {
      "text/plain": [
       "'HELLO WORLD'"
      ]
     },
     "execution_count": 13,
     "metadata": {},
     "output_type": "execute_result"
    }
   ],
   "source": [
    "y"
   ]
  },
  {
   "cell_type": "code",
   "execution_count": 14,
   "id": "dd158305",
   "metadata": {},
   "outputs": [
    {
     "data": {
      "text/plain": [
       "'Hello world'"
      ]
     },
     "execution_count": 14,
     "metadata": {},
     "output_type": "execute_result"
    }
   ],
   "source": [
    "x"
   ]
  },
  {
   "cell_type": "code",
   "execution_count": 15,
   "id": "fed0f759",
   "metadata": {},
   "outputs": [
    {
     "data": {
      "text/plain": [
       "<function str.lower()>"
      ]
     },
     "execution_count": 15,
     "metadata": {},
     "output_type": "execute_result"
    }
   ],
   "source": [
    "x.lower"
   ]
  },
  {
   "cell_type": "code",
   "execution_count": 16,
   "id": "d41b7dc9",
   "metadata": {},
   "outputs": [
    {
     "data": {
      "text/plain": [
       "'hello world'"
      ]
     },
     "execution_count": 16,
     "metadata": {},
     "output_type": "execute_result"
    }
   ],
   "source": [
    "x.lower()"
   ]
  },
  {
   "cell_type": "code",
   "execution_count": 17,
   "id": "7da16341",
   "metadata": {},
   "outputs": [],
   "source": [
    "z=x.lower()"
   ]
  },
  {
   "cell_type": "code",
   "execution_count": 18,
   "id": "6c1ff980",
   "metadata": {},
   "outputs": [
    {
     "data": {
      "text/plain": [
       "'hello world'"
      ]
     },
     "execution_count": 18,
     "metadata": {},
     "output_type": "execute_result"
    }
   ],
   "source": [
    "z"
   ]
  },
  {
   "cell_type": "code",
   "execution_count": 19,
   "id": "9f5c6fcc",
   "metadata": {},
   "outputs": [
    {
     "data": {
      "text/plain": [
       "'Hello world'"
      ]
     },
     "execution_count": 19,
     "metadata": {},
     "output_type": "execute_result"
    }
   ],
   "source": [
    "z.capitalize()"
   ]
  },
  {
   "cell_type": "code",
   "execution_count": 20,
   "id": "51fdf994",
   "metadata": {},
   "outputs": [
    {
     "data": {
      "text/plain": [
       "'hello world'"
      ]
     },
     "execution_count": 20,
     "metadata": {},
     "output_type": "execute_result"
    }
   ],
   "source": [
    "z"
   ]
  },
  {
   "cell_type": "markdown",
   "id": "430a8a5b",
   "metadata": {},
   "source": [
    "# Split()"
   ]
  },
  {
   "cell_type": "code",
   "execution_count": 21,
   "id": "e49a0cf5",
   "metadata": {},
   "outputs": [
    {
     "data": {
      "text/plain": [
       "'Hello world'"
      ]
     },
     "execution_count": 21,
     "metadata": {},
     "output_type": "execute_result"
    }
   ],
   "source": [
    "x"
   ]
  },
  {
   "cell_type": "code",
   "execution_count": 22,
   "id": "2caca4e1",
   "metadata": {},
   "outputs": [
    {
     "data": {
      "text/plain": [
       "['Hello', 'world']"
      ]
     },
     "execution_count": 22,
     "metadata": {},
     "output_type": "execute_result"
    }
   ],
   "source": [
    "x.split()"
   ]
  },
  {
   "cell_type": "code",
   "execution_count": 23,
   "id": "5bbcb404",
   "metadata": {},
   "outputs": [
    {
     "data": {
      "text/plain": [
       "'Python je najbolji programski jezik na svijetu !!!'"
      ]
     },
     "execution_count": 23,
     "metadata": {},
     "output_type": "execute_result"
    }
   ],
   "source": [
    "b"
   ]
  },
  {
   "cell_type": "code",
   "execution_count": 24,
   "id": "c24b8e9b",
   "metadata": {},
   "outputs": [
    {
     "data": {
      "text/plain": [
       "['Python', 'je', 'najbolji', 'programski', 'jezik', 'na', 'svijetu', '!!!']"
      ]
     },
     "execution_count": 24,
     "metadata": {},
     "output_type": "execute_result"
    }
   ],
   "source": [
    "b.split()"
   ]
  },
  {
   "cell_type": "code",
   "execution_count": 25,
   "id": "8601dc55",
   "metadata": {},
   "outputs": [],
   "source": [
    "c=\"Python je najbolji programski jezik na svijetu ! ! !\""
   ]
  },
  {
   "cell_type": "code",
   "execution_count": 26,
   "id": "45815ad1",
   "metadata": {},
   "outputs": [
    {
     "data": {
      "text/plain": [
       "['Python',\n",
       " 'je',\n",
       " 'najbolji',\n",
       " 'programski',\n",
       " 'jezik',\n",
       " 'na',\n",
       " 'svijetu',\n",
       " '!',\n",
       " '!',\n",
       " '!']"
      ]
     },
     "execution_count": 26,
     "metadata": {},
     "output_type": "execute_result"
    }
   ],
   "source": [
    "c.split()"
   ]
  },
  {
   "cell_type": "code",
   "execution_count": 27,
   "id": "cad143bc",
   "metadata": {},
   "outputs": [
    {
     "data": {
      "text/plain": [
       "'Python je najbolji programski jezik na svijetu ! ! !'"
      ]
     },
     "execution_count": 27,
     "metadata": {},
     "output_type": "execute_result"
    }
   ],
   "source": [
    "c"
   ]
  },
  {
   "cell_type": "code",
   "execution_count": 28,
   "id": "fd2ef89f",
   "metadata": {},
   "outputs": [
    {
     "ename": "NameError",
     "evalue": "name 'j' is not defined",
     "output_type": "error",
     "traceback": [
      "\u001b[1;31m---------------------------------------------------------------------------\u001b[0m",
      "\u001b[1;31mNameError\u001b[0m                                 Traceback (most recent call last)",
      "\u001b[1;32m<ipython-input-28-dda75fb106b9>\u001b[0m in \u001b[0;36m<module>\u001b[1;34m\u001b[0m\n\u001b[1;32m----> 1\u001b[1;33m \u001b[0mc\u001b[0m\u001b[1;33m.\u001b[0m\u001b[0msplit\u001b[0m\u001b[1;33m(\u001b[0m\u001b[0mj\u001b[0m\u001b[1;33m)\u001b[0m\u001b[1;33m\u001b[0m\u001b[1;33m\u001b[0m\u001b[0m\n\u001b[0m",
      "\u001b[1;31mNameError\u001b[0m: name 'j' is not defined"
     ]
    }
   ],
   "source": [
    "c.split(j)"
   ]
  },
  {
   "cell_type": "code",
   "execution_count": 29,
   "id": "686edb85",
   "metadata": {},
   "outputs": [
    {
     "data": {
      "text/plain": [
       "['Python ', 'e na', 'bol', 'i programski ', 'ezik na svi', 'etu ! ! !']"
      ]
     },
     "execution_count": 29,
     "metadata": {},
     "output_type": "execute_result"
    }
   ],
   "source": [
    "c.split(\"j\")"
   ]
  },
  {
   "cell_type": "code",
   "execution_count": 30,
   "id": "08b914ab",
   "metadata": {},
   "outputs": [],
   "source": [
    "x=\"1,2,3,4,5,6,7,8,9,10\""
   ]
  },
  {
   "cell_type": "code",
   "execution_count": 31,
   "id": "1a56696a",
   "metadata": {},
   "outputs": [
    {
     "data": {
      "text/plain": [
       "'1,2,3,4,5,6,7,8,9,10'"
      ]
     },
     "execution_count": 31,
     "metadata": {},
     "output_type": "execute_result"
    }
   ],
   "source": [
    "x"
   ]
  },
  {
   "cell_type": "code",
   "execution_count": 32,
   "id": "0223e603",
   "metadata": {},
   "outputs": [
    {
     "ename": "SyntaxError",
     "evalue": "invalid syntax (<ipython-input-32-9dc7399b8f69>, line 1)",
     "output_type": "error",
     "traceback": [
      "\u001b[1;36m  File \u001b[1;32m\"<ipython-input-32-9dc7399b8f69>\"\u001b[1;36m, line \u001b[1;32m1\u001b[0m\n\u001b[1;33m    x.split(,)\u001b[0m\n\u001b[1;37m            ^\u001b[0m\n\u001b[1;31mSyntaxError\u001b[0m\u001b[1;31m:\u001b[0m invalid syntax\n"
     ]
    }
   ],
   "source": [
    "x.split(,)"
   ]
  },
  {
   "cell_type": "code",
   "execution_count": 33,
   "id": "359461fb",
   "metadata": {},
   "outputs": [
    {
     "data": {
      "text/plain": [
       "['1', '2', '3', '4', '5', '6', '7', '8', '9', '10']"
      ]
     },
     "execution_count": 33,
     "metadata": {},
     "output_type": "execute_result"
    }
   ],
   "source": [
    "x.split(\",\")"
   ]
  },
  {
   "cell_type": "markdown",
   "id": "e89d05f7",
   "metadata": {},
   "source": [
    "# Strip()"
   ]
  },
  {
   "cell_type": "code",
   "execution_count": 34,
   "id": "f3cd5ade",
   "metadata": {},
   "outputs": [],
   "source": [
    "a=\"     Python je najbolji programski jezik      \""
   ]
  },
  {
   "cell_type": "code",
   "execution_count": 35,
   "id": "887d75e6",
   "metadata": {},
   "outputs": [
    {
     "data": {
      "text/plain": [
       "'Python je najbolji programski jezik'"
      ]
     },
     "execution_count": 35,
     "metadata": {},
     "output_type": "execute_result"
    }
   ],
   "source": [
    "a.strip()"
   ]
  },
  {
   "cell_type": "code",
   "execution_count": 36,
   "id": "87ca8d29",
   "metadata": {},
   "outputs": [
    {
     "data": {
      "text/plain": [
       "'     Python je najbolji programski jezik      '"
      ]
     },
     "execution_count": 36,
     "metadata": {},
     "output_type": "execute_result"
    }
   ],
   "source": [
    "a"
   ]
  },
  {
   "cell_type": "code",
   "execution_count": 37,
   "id": "f8435b1a",
   "metadata": {},
   "outputs": [
    {
     "ename": "NameError",
     "evalue": "name 'strip' is not defined",
     "output_type": "error",
     "traceback": [
      "\u001b[1;31m---------------------------------------------------------------------------\u001b[0m",
      "\u001b[1;31mNameError\u001b[0m                                 Traceback (most recent call last)",
      "\u001b[1;32m<ipython-input-37-2cc08ccc4db4>\u001b[0m in \u001b[0;36m<module>\u001b[1;34m\u001b[0m\n\u001b[1;32m----> 1\u001b[1;33m \u001b[0mb\u001b[0m\u001b[1;33m=\u001b[0m\u001b[0mstrip\u001b[0m\u001b[1;33m(\u001b[0m\u001b[0ma\u001b[0m\u001b[1;33m)\u001b[0m\u001b[1;33m\u001b[0m\u001b[1;33m\u001b[0m\u001b[0m\n\u001b[0m",
      "\u001b[1;31mNameError\u001b[0m: name 'strip' is not defined"
     ]
    }
   ],
   "source": [
    "b=strip(a)"
   ]
  },
  {
   "cell_type": "code",
   "execution_count": 38,
   "id": "98fa9fd7",
   "metadata": {},
   "outputs": [],
   "source": [
    "b=a.strip()"
   ]
  },
  {
   "cell_type": "code",
   "execution_count": 39,
   "id": "588b9f62",
   "metadata": {},
   "outputs": [
    {
     "data": {
      "text/plain": [
       "'Python je najbolji programski jezik'"
      ]
     },
     "execution_count": 39,
     "metadata": {},
     "output_type": "execute_result"
    }
   ],
   "source": [
    "b"
   ]
  },
  {
   "cell_type": "markdown",
   "id": "306c7ef5",
   "metadata": {},
   "source": [
    "# Replace()"
   ]
  },
  {
   "cell_type": "code",
   "execution_count": 40,
   "id": "ebb23f93",
   "metadata": {},
   "outputs": [
    {
     "data": {
      "text/plain": [
       "'     Python je najbolji programski jezik      '"
      ]
     },
     "execution_count": 40,
     "metadata": {},
     "output_type": "execute_result"
    }
   ],
   "source": [
    "a"
   ]
  },
  {
   "cell_type": "code",
   "execution_count": 41,
   "id": "cd52edcd",
   "metadata": {},
   "outputs": [],
   "source": [
    "a=\"Python je najbolji programski jezik\""
   ]
  },
  {
   "cell_type": "code",
   "execution_count": 42,
   "id": "78cb175c",
   "metadata": {},
   "outputs": [
    {
     "data": {
      "text/plain": [
       "'Angular je najbolji programski jezik'"
      ]
     },
     "execution_count": 42,
     "metadata": {},
     "output_type": "execute_result"
    }
   ],
   "source": [
    "a.replace(\"Python\", \"Angular\")"
   ]
  },
  {
   "cell_type": "code",
   "execution_count": 43,
   "id": "1688859f",
   "metadata": {},
   "outputs": [
    {
     "data": {
      "text/plain": [
       "'Python je najbolji programski jezik'"
      ]
     },
     "execution_count": 43,
     "metadata": {},
     "output_type": "execute_result"
    }
   ],
   "source": [
    "a.replace(\"C#\",\"Angular\")"
   ]
  },
  {
   "cell_type": "markdown",
   "id": "1220f6fc",
   "metadata": {},
   "source": [
    "# Count()"
   ]
  },
  {
   "cell_type": "code",
   "execution_count": 44,
   "id": "e2532a73",
   "metadata": {},
   "outputs": [],
   "source": [
    "a=\"Python je najbolji programski jezik\""
   ]
  },
  {
   "cell_type": "code",
   "execution_count": 45,
   "id": "7d5339c8",
   "metadata": {},
   "outputs": [
    {
     "data": {
      "text/plain": [
       "'Python je najbolji programski jezik'"
      ]
     },
     "execution_count": 45,
     "metadata": {},
     "output_type": "execute_result"
    }
   ],
   "source": [
    "a"
   ]
  },
  {
   "cell_type": "code",
   "execution_count": 46,
   "id": "1ea2efff",
   "metadata": {},
   "outputs": [
    {
     "data": {
      "text/plain": [
       "1"
      ]
     },
     "execution_count": 46,
     "metadata": {},
     "output_type": "execute_result"
    }
   ],
   "source": [
    "a.count(\"Python\")"
   ]
  },
  {
   "cell_type": "code",
   "execution_count": 47,
   "id": "0fb1d25c",
   "metadata": {},
   "outputs": [
    {
     "data": {
      "text/plain": [
       "2"
      ]
     },
     "execution_count": 47,
     "metadata": {},
     "output_type": "execute_result"
    }
   ],
   "source": [
    "a.count(\"je\")"
   ]
  },
  {
   "cell_type": "code",
   "execution_count": 48,
   "id": "f695aea8",
   "metadata": {},
   "outputs": [
    {
     "data": {
      "text/plain": [
       "3"
      ]
     },
     "execution_count": 48,
     "metadata": {},
     "output_type": "execute_result"
    }
   ],
   "source": [
    "a.count(\"i\")"
   ]
  },
  {
   "cell_type": "code",
   "execution_count": 50,
   "id": "1e1bc8ca",
   "metadata": {},
   "outputs": [
    {
     "data": {
      "text/plain": [
       "0"
      ]
     },
     "execution_count": 50,
     "metadata": {},
     "output_type": "execute_result"
    }
   ],
   "source": [
    "a.count(\"!\")"
   ]
  },
  {
   "cell_type": "code",
   "execution_count": 51,
   "id": "560ffb31",
   "metadata": {},
   "outputs": [
    {
     "data": {
      "text/plain": [
       "4"
      ]
     },
     "execution_count": 51,
     "metadata": {},
     "output_type": "execute_result"
    }
   ],
   "source": [
    "a.count(\" \")"
   ]
  },
  {
   "cell_type": "markdown",
   "id": "7cf71123",
   "metadata": {},
   "source": [
    "# Alphanumeric"
   ]
  },
  {
   "cell_type": "code",
   "execution_count": 52,
   "id": "53cfa3db",
   "metadata": {},
   "outputs": [],
   "source": [
    "a=\"PythonJeZa10\""
   ]
  },
  {
   "cell_type": "code",
   "execution_count": 53,
   "id": "b1ca7935",
   "metadata": {},
   "outputs": [
    {
     "data": {
      "text/plain": [
       "'PythonJeZa10'"
      ]
     },
     "execution_count": 53,
     "metadata": {},
     "output_type": "execute_result"
    }
   ],
   "source": [
    "a"
   ]
  },
  {
   "cell_type": "code",
   "execution_count": 54,
   "id": "672fa743",
   "metadata": {},
   "outputs": [
    {
     "data": {
      "text/plain": [
       "True"
      ]
     },
     "execution_count": 54,
     "metadata": {},
     "output_type": "execute_result"
    }
   ],
   "source": [
    "a.isalnum()"
   ]
  },
  {
   "cell_type": "code",
   "execution_count": 55,
   "id": "968fe51b",
   "metadata": {},
   "outputs": [],
   "source": [
    "b=\"Python je za 10\""
   ]
  },
  {
   "cell_type": "code",
   "execution_count": 57,
   "id": "b3cadf7a",
   "metadata": {},
   "outputs": [
    {
     "data": {
      "text/plain": [
       "False"
      ]
     },
     "execution_count": 57,
     "metadata": {},
     "output_type": "execute_result"
    }
   ],
   "source": [
    "b.isalnum()"
   ]
  },
  {
   "cell_type": "code",
   "execution_count": 58,
   "id": "deb1cfa7",
   "metadata": {},
   "outputs": [
    {
     "data": {
      "text/plain": [
       "'PythonJeZa10'"
      ]
     },
     "execution_count": 58,
     "metadata": {},
     "output_type": "execute_result"
    }
   ],
   "source": [
    "a"
   ]
  },
  {
   "cell_type": "code",
   "execution_count": 59,
   "id": "760ef2fe",
   "metadata": {},
   "outputs": [
    {
     "data": {
      "text/plain": [
       "False"
      ]
     },
     "execution_count": 59,
     "metadata": {},
     "output_type": "execute_result"
    }
   ],
   "source": [
    "a.isalpha()"
   ]
  },
  {
   "cell_type": "code",
   "execution_count": 60,
   "id": "c9970418",
   "metadata": {},
   "outputs": [
    {
     "data": {
      "text/plain": [
       "False"
      ]
     },
     "execution_count": 60,
     "metadata": {},
     "output_type": "execute_result"
    }
   ],
   "source": [
    "a.isdecimal()"
   ]
  },
  {
   "cell_type": "code",
   "execution_count": 61,
   "id": "32bbff84",
   "metadata": {},
   "outputs": [],
   "source": [
    "b=\"123456789\""
   ]
  },
  {
   "cell_type": "code",
   "execution_count": 62,
   "id": "a643ce13",
   "metadata": {},
   "outputs": [
    {
     "data": {
      "text/plain": [
       "True"
      ]
     },
     "execution_count": 62,
     "metadata": {},
     "output_type": "execute_result"
    }
   ],
   "source": [
    "b.isdecimal()"
   ]
  },
  {
   "cell_type": "code",
   "execution_count": 63,
   "id": "23918fd2",
   "metadata": {},
   "outputs": [
    {
     "data": {
      "text/plain": [
       "True"
      ]
     },
     "execution_count": 63,
     "metadata": {},
     "output_type": "execute_result"
    }
   ],
   "source": [
    "b.isalnum()"
   ]
  },
  {
   "cell_type": "markdown",
   "id": "e1fb60cc",
   "metadata": {},
   "source": [
    "# In"
   ]
  },
  {
   "cell_type": "code",
   "execution_count": 64,
   "id": "a59d4514",
   "metadata": {},
   "outputs": [],
   "source": [
    "a=\"Python je najbolji programski jezik\""
   ]
  },
  {
   "cell_type": "code",
   "execution_count": 65,
   "id": "22a9b4be",
   "metadata": {},
   "outputs": [
    {
     "data": {
      "text/plain": [
       "'Python je najbolji programski jezik'"
      ]
     },
     "execution_count": 65,
     "metadata": {},
     "output_type": "execute_result"
    }
   ],
   "source": [
    "a"
   ]
  },
  {
   "cell_type": "code",
   "execution_count": 66,
   "id": "95efa099",
   "metadata": {},
   "outputs": [
    {
     "name": "stdout",
     "output_type": "stream",
     "text": [
      "True\n"
     ]
    }
   ],
   "source": [
    "print(\"najbolji\" in a)"
   ]
  },
  {
   "cell_type": "code",
   "execution_count": 67,
   "id": "bbab802f",
   "metadata": {},
   "outputs": [
    {
     "name": "stdout",
     "output_type": "stream",
     "text": [
      "False\n"
     ]
    }
   ],
   "source": [
    "print(\"najtezi\" in a)"
   ]
  },
  {
   "cell_type": "code",
   "execution_count": 68,
   "id": "111ef8a4",
   "metadata": {},
   "outputs": [
    {
     "name": "stdout",
     "output_type": "stream",
     "text": [
      "True\n"
     ]
    }
   ],
   "source": [
    "print(\"najtezi\" not in a)"
   ]
  },
  {
   "cell_type": "code",
   "execution_count": 69,
   "id": "4415eb8d",
   "metadata": {},
   "outputs": [],
   "source": [
    "b=\"najbolji\""
   ]
  },
  {
   "cell_type": "code",
   "execution_count": 70,
   "id": "dcebe42a",
   "metadata": {},
   "outputs": [
    {
     "data": {
      "text/plain": [
       "True"
      ]
     },
     "execution_count": 70,
     "metadata": {},
     "output_type": "execute_result"
    }
   ],
   "source": [
    "b in a "
   ]
  },
  {
   "cell_type": "markdown",
   "id": "efe3d69c",
   "metadata": {},
   "source": [
    "# Spajanje stringova"
   ]
  },
  {
   "cell_type": "code",
   "execution_count": 75,
   "id": "4b3a132c",
   "metadata": {},
   "outputs": [],
   "source": [
    "a=\"Python je za \""
   ]
  },
  {
   "cell_type": "code",
   "execution_count": 72,
   "id": "b05ee86e",
   "metadata": {},
   "outputs": [],
   "source": [
    "b=\"10\""
   ]
  },
  {
   "cell_type": "code",
   "execution_count": 73,
   "id": "b2cfc389",
   "metadata": {},
   "outputs": [
    {
     "data": {
      "text/plain": [
       "'Python je za10'"
      ]
     },
     "execution_count": 73,
     "metadata": {},
     "output_type": "execute_result"
    }
   ],
   "source": [
    "a+b"
   ]
  },
  {
   "cell_type": "code",
   "execution_count": 74,
   "id": "574dc4a7",
   "metadata": {},
   "outputs": [
    {
     "data": {
      "text/plain": [
       "'Python je za10'"
      ]
     },
     "execution_count": 74,
     "metadata": {},
     "output_type": "execute_result"
    }
   ],
   "source": [
    "a+b"
   ]
  },
  {
   "cell_type": "code",
   "execution_count": 76,
   "id": "9b7d017d",
   "metadata": {},
   "outputs": [
    {
     "data": {
      "text/plain": [
       "'Python je za 10'"
      ]
     },
     "execution_count": 76,
     "metadata": {},
     "output_type": "execute_result"
    }
   ],
   "source": [
    "a+b"
   ]
  },
  {
   "cell_type": "code",
   "execution_count": 77,
   "id": "b39c1807",
   "metadata": {},
   "outputs": [],
   "source": [
    "c=a+b"
   ]
  },
  {
   "cell_type": "code",
   "execution_count": 78,
   "id": "958c89a8",
   "metadata": {},
   "outputs": [
    {
     "data": {
      "text/plain": [
       "'Python je za 10'"
      ]
     },
     "execution_count": 78,
     "metadata": {},
     "output_type": "execute_result"
    }
   ],
   "source": [
    "c"
   ]
  },
  {
   "cell_type": "code",
   "execution_count": 79,
   "id": "38115f13",
   "metadata": {},
   "outputs": [
    {
     "ename": "TypeError",
     "evalue": "can't multiply sequence by non-int of type 'str'",
     "output_type": "error",
     "traceback": [
      "\u001b[1;31m---------------------------------------------------------------------------\u001b[0m",
      "\u001b[1;31mTypeError\u001b[0m                                 Traceback (most recent call last)",
      "\u001b[1;32m<ipython-input-79-8ce765dcfa30>\u001b[0m in \u001b[0;36m<module>\u001b[1;34m\u001b[0m\n\u001b[1;32m----> 1\u001b[1;33m \u001b[0ma\u001b[0m\u001b[1;33m*\u001b[0m\u001b[0mb\u001b[0m\u001b[1;33m\u001b[0m\u001b[1;33m\u001b[0m\u001b[0m\n\u001b[0m",
      "\u001b[1;31mTypeError\u001b[0m: can't multiply sequence by non-int of type 'str'"
     ]
    }
   ],
   "source": [
    "a*b"
   ]
  },
  {
   "cell_type": "code",
   "execution_count": 80,
   "id": "c2055fa9",
   "metadata": {},
   "outputs": [],
   "source": [
    "mojstring_1=\"Amir Muharemović\""
   ]
  },
  {
   "cell_type": "code",
   "execution_count": 81,
   "id": "dc459576",
   "metadata": {},
   "outputs": [],
   "source": [
    "mojstring_2=mojstring_1[::-1]"
   ]
  },
  {
   "cell_type": "code",
   "execution_count": 82,
   "id": "6e1cdc2d",
   "metadata": {},
   "outputs": [
    {
     "data": {
      "text/plain": [
       "'ćivomerahuM rimA'"
      ]
     },
     "execution_count": 82,
     "metadata": {},
     "output_type": "execute_result"
    }
   ],
   "source": [
    "mojstring_2"
   ]
  },
  {
   "cell_type": "code",
   "execution_count": 83,
   "id": "19be626f",
   "metadata": {},
   "outputs": [],
   "source": [
    "mojstring_2=mojstring_2.upper()"
   ]
  },
  {
   "cell_type": "code",
   "execution_count": 84,
   "id": "427619e3",
   "metadata": {},
   "outputs": [
    {
     "data": {
      "text/plain": [
       "'ĆIVOMERAHUM RIMA'"
      ]
     },
     "execution_count": 84,
     "metadata": {},
     "output_type": "execute_result"
    }
   ],
   "source": [
    "mojstring_2"
   ]
  },
  {
   "cell_type": "code",
   "execution_count": null,
   "id": "84296502",
   "metadata": {},
   "outputs": [],
   "source": []
  }
 ],
 "metadata": {
  "kernelspec": {
   "display_name": "Python 3",
   "language": "python",
   "name": "python3"
  },
  "language_info": {
   "codemirror_mode": {
    "name": "ipython",
    "version": 3
   },
   "file_extension": ".py",
   "mimetype": "text/x-python",
   "name": "python",
   "nbconvert_exporter": "python",
   "pygments_lexer": "ipython3",
   "version": "3.8.8"
  }
 },
 "nbformat": 4,
 "nbformat_minor": 5
}
